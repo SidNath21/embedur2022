{
 "cells": [
  {
   "cell_type": "code",
   "execution_count": 1,
   "metadata": {},
   "outputs": [],
   "source": [
    "import pandas as pd\n",
    "import numpy as np\n",
    "import matplotlib.pyplot as plt\n",
    "%matplotlib inline"
   ]
  },
  {
   "cell_type": "code",
   "execution_count": 2,
   "metadata": {},
   "outputs": [
    {
     "data": {
      "text/html": [
       "<div>\n",
       "<style scoped>\n",
       "    .dataframe tbody tr th:only-of-type {\n",
       "        vertical-align: middle;\n",
       "    }\n",
       "\n",
       "    .dataframe tbody tr th {\n",
       "        vertical-align: top;\n",
       "    }\n",
       "\n",
       "    .dataframe thead th {\n",
       "        text-align: right;\n",
       "    }\n",
       "</style>\n",
       "<table border=\"1\" class=\"dataframe\">\n",
       "  <thead>\n",
       "    <tr style=\"text-align: right;\">\n",
       "      <th></th>\n",
       "      <th>Process</th>\n",
       "      <th>Initial Memory (kB)</th>\n",
       "      <th>Final Memory (kB)</th>\n",
       "    </tr>\n",
       "  </thead>\n",
       "  <tbody>\n",
       "    <tr>\n",
       "      <th>0</th>\n",
       "      <td>hostapd</td>\n",
       "      <td>2704</td>\n",
       "      <td>2728</td>\n",
       "    </tr>\n",
       "    <tr>\n",
       "      <th>1</th>\n",
       "      <td>sdcsupp</td>\n",
       "      <td>4964</td>\n",
       "      <td>4960</td>\n",
       "    </tr>\n",
       "    <tr>\n",
       "      <th>2</th>\n",
       "      <td>sdcsupp</td>\n",
       "      <td>4716</td>\n",
       "      <td>4700</td>\n",
       "    </tr>\n",
       "    <tr>\n",
       "      <th>3</th>\n",
       "      <td>hostapd</td>\n",
       "      <td>3360</td>\n",
       "      <td>3372</td>\n",
       "    </tr>\n",
       "    <tr>\n",
       "      <th>4</th>\n",
       "      <td>ieee1905_transport</td>\n",
       "      <td>5516</td>\n",
       "      <td>5356</td>\n",
       "    </tr>\n",
       "    <tr>\n",
       "      <th>5</th>\n",
       "      <td>beerocks_controller</td>\n",
       "      <td>10408</td>\n",
       "      <td>10716</td>\n",
       "    </tr>\n",
       "    <tr>\n",
       "      <th>6</th>\n",
       "      <td>beerocks_agent</td>\n",
       "      <td>11616</td>\n",
       "      <td>11404</td>\n",
       "    </tr>\n",
       "    <tr>\n",
       "      <th>7</th>\n",
       "      <td>beerocks_fronthaul</td>\n",
       "      <td>8384</td>\n",
       "      <td>8544</td>\n",
       "    </tr>\n",
       "    <tr>\n",
       "      <th>8</th>\n",
       "      <td>beerocks_fronthaul</td>\n",
       "      <td>8672</td>\n",
       "      <td>8868</td>\n",
       "    </tr>\n",
       "  </tbody>\n",
       "</table>\n",
       "</div>"
      ],
      "text/plain": [
       "               Process  Initial Memory (kB)  Final Memory (kB)\n",
       "0              hostapd                 2704               2728\n",
       "1              sdcsupp                 4964               4960\n",
       "2              sdcsupp                 4716               4700\n",
       "3              hostapd                 3360               3372\n",
       "4   ieee1905_transport                 5516               5356\n",
       "5  beerocks_controller                10408              10716\n",
       "6       beerocks_agent                11616              11404\n",
       "7   beerocks_fronthaul                 8384               8544\n",
       "8   beerocks_fronthaul                 8672               8868"
      ]
     },
     "execution_count": 2,
     "metadata": {},
     "output_type": "execute_result"
    }
   ],
   "source": [
    "processes = pd.read_csv(\"process_memory.csv\", index_col = False)\n",
    "processes"
   ]
  },
  {
   "cell_type": "code",
   "execution_count": 3,
   "metadata": {},
   "outputs": [
    {
     "data": {
      "text/html": [
       "<div>\n",
       "<style scoped>\n",
       "    .dataframe tbody tr th:only-of-type {\n",
       "        vertical-align: middle;\n",
       "    }\n",
       "\n",
       "    .dataframe tbody tr th {\n",
       "        vertical-align: top;\n",
       "    }\n",
       "\n",
       "    .dataframe thead th {\n",
       "        text-align: right;\n",
       "    }\n",
       "</style>\n",
       "<table border=\"1\" class=\"dataframe\">\n",
       "  <thead>\n",
       "    <tr style=\"text-align: right;\">\n",
       "      <th></th>\n",
       "      <th>Initial Memory (kB)</th>\n",
       "      <th>Final Memory (kB)</th>\n",
       "      <th>Process</th>\n",
       "    </tr>\n",
       "    <tr>\n",
       "      <th>Process</th>\n",
       "      <th></th>\n",
       "      <th></th>\n",
       "      <th></th>\n",
       "    </tr>\n",
       "  </thead>\n",
       "  <tbody>\n",
       "    <tr>\n",
       "      <th>beerocks_agent</th>\n",
       "      <td>11616</td>\n",
       "      <td>11404</td>\n",
       "      <td>beerocks_agent</td>\n",
       "    </tr>\n",
       "    <tr>\n",
       "      <th>beerocks_controller</th>\n",
       "      <td>10408</td>\n",
       "      <td>10716</td>\n",
       "      <td>beerocks_controller</td>\n",
       "    </tr>\n",
       "    <tr>\n",
       "      <th>beerocks_fronthaul</th>\n",
       "      <td>17056</td>\n",
       "      <td>17412</td>\n",
       "      <td>beerocks_fronthaul</td>\n",
       "    </tr>\n",
       "    <tr>\n",
       "      <th>hostapd</th>\n",
       "      <td>6064</td>\n",
       "      <td>6100</td>\n",
       "      <td>hostapd</td>\n",
       "    </tr>\n",
       "    <tr>\n",
       "      <th>ieee1905_transport</th>\n",
       "      <td>5516</td>\n",
       "      <td>5356</td>\n",
       "      <td>ieee1905_transport</td>\n",
       "    </tr>\n",
       "    <tr>\n",
       "      <th>sdcsupp</th>\n",
       "      <td>9680</td>\n",
       "      <td>9660</td>\n",
       "      <td>sdcsupp</td>\n",
       "    </tr>\n",
       "  </tbody>\n",
       "</table>\n",
       "</div>"
      ],
      "text/plain": [
       "                     Initial Memory (kB)  Final Memory (kB)  \\\n",
       "Process                                                       \n",
       "beerocks_agent                     11616              11404   \n",
       "beerocks_controller                10408              10716   \n",
       "beerocks_fronthaul                 17056              17412   \n",
       "hostapd                             6064               6100   \n",
       "ieee1905_transport                  5516               5356   \n",
       "sdcsupp                             9680               9660   \n",
       "\n",
       "                                 Process  \n",
       "Process                                   \n",
       "beerocks_agent            beerocks_agent  \n",
       "beerocks_controller  beerocks_controller  \n",
       "beerocks_fronthaul    beerocks_fronthaul  \n",
       "hostapd                          hostapd  \n",
       "ieee1905_transport    ieee1905_transport  \n",
       "sdcsupp                          sdcsupp  "
      ]
     },
     "execution_count": 3,
     "metadata": {},
     "output_type": "execute_result"
    }
   ],
   "source": [
    "aggregation_functions = {\"Initial Memory (kB)\": \"sum\", \"Final Memory (kB)\": \"sum\", \"Process\": \"max\"}\n",
    "single_processes = processes.groupby(processes['Process']).aggregate(aggregation_functions)\n",
    "# single_processes.drop(columns=single_processes.columns[0], axis = 1, inplace = True)\n",
    "single_processes"
   ]
  },
  {
   "cell_type": "code",
   "execution_count": 4,
   "metadata": {},
   "outputs": [
    {
     "data": {
      "text/plain": [
       "<BarContainer object of 9 artists>"
      ]
     },
     "execution_count": 4,
     "metadata": {},
     "output_type": "execute_result"
    },
    {
     "data": {
      "image/png": "[encoded data removed]",
      "text/plain": [
       "<Figure size 432x288 with 1 Axes>"
      ]
     },
     "metadata": {
      "needs_background": "light"
     },
     "output_type": "display_data"
    }
   ],
   "source": [
    "# Plot Memory of each Individual Process\n",
    "# Plot total memory of each process\n",
    "height = 0.3\n",
    "initial_memory = processes[\"Initial Memory (kB)\"]\n",
    "final_memory = processes[\"Final Memory (kB)\"]\n",
    "\n",
    "labels = processes[\"Process\"]\n",
    "\n",
    "colors = {\"Initial\": 'orange', \"Final\": 'royalblue'}\n",
    "legend_labels = list(colors.keys())\n",
    "handles = [plt.Rectangle((0, 0), 1, 1, color = colors[label]) for label in legend_labels ]\n",
    "plt.legend(handles, legend_labels)\n",
    "\n",
    "plt.ylabel(\"Process Name\")\n",
    "plt.xlabel(\"Memory (kB)\")\n",
    "plt.yticks(range(len(initial_memory)), labels=labels)\n",
    "# plt.legend()\n",
    "plt.barh(np.arange(len(initial_memory)),initial_memory , height = height, color = \"orange\")\n",
    "plt.barh(np.arange(len(final_memory)) + height, final_memory , height = height, color = 'royalblue')"
   ]
  },
  {
   "cell_type": "code",
   "execution_count": 5,
   "metadata": {},
   "outputs": [
    {
     "data": {
      "text/plain": [
       "<BarContainer object of 6 artists>"
      ]
     },
     "execution_count": 5,
     "metadata": {},
     "output_type": "execute_result"
    },
    {
     "data": {
      "image/png": "[encoded data removed]",
      "text/plain": [
       "<Figure size 432x288 with 1 Axes>"
      ]
     },
     "metadata": {
      "needs_background": "light"
     },
     "output_type": "display_data"
    }
   ],
   "source": [
    "# Plot Memory of each Individual Process\n",
    "# Plot total memory of each process\n",
    "height = 0.3\n",
    "initial_memory = single_processes[\"Initial Memory (kB)\"]\n",
    "final_memory = single_processes[\"Final Memory (kB)\"]\n",
    "\n",
    "labels = single_processes[\"Process\"]\n",
    "\n",
    "colors = {\"Initial\": 'orange', \"Final\": 'royalblue'}\n",
    "legend_labels = list(colors.keys())\n",
    "handles = [plt.Rectangle((0, 0), 1, 1, color = colors[label]) for label in legend_labels ]\n",
    "plt.legend(handles, legend_labels)\n",
    "plt.ylabel(\"Process Name\")\n",
    "plt.xlabel(\"Memory (kB)\")\n",
    "plt.yticks(range(len(initial_memory)), labels=labels)\n",
    "# plt.legend()\n",
    "plt.barh(np.arange(len(initial_memory)),initial_memory , height = height, color = \"orange\")\n",
    "plt.barh(np.arange(len(final_memory)) + height, final_memory , height = height, color = 'royalblue')"
   ]
  },
  {
   "cell_type": "code",
   "execution_count": null,
   "metadata": {},
   "outputs": [],
   "source": []
  }
 ],
 "metadata": {
  "interpreter": {
   "hash": "aee8b7b246df8f9039afb4144a1f6fd8d2ca17a180786b69acc140d282b71a49"
  },
  "kernelspec": {
   "display_name": "Python 3.8.2 64-bit",
   "language": "python",
   "name": "python3"
  },
  "language_info": {
   "codemirror_mode": {
    "name": "ipython",
    "version": 3
   },
   "file_extension": ".py",
   "mimetype": "text/x-python",
   "name": "python",
   "nbconvert_exporter": "python",
   "pygments_lexer": "ipython3",
   "version": "3.8.2"
  },
  "orig_nbformat": 4
 },
 "nbformat": 4,
 "nbformat_minor": 2
}
